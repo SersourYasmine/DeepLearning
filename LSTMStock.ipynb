{
 "cells": [
  {
   "cell_type": "code",
   "execution_count": 1,
   "metadata": {},
   "outputs": [],
   "source": [
    "import math\n",
    "import pandas_datareader as web\n",
    "import numpy as np\n",
    "import pandas as pd\n",
    "from sklearn.preprocessing import MinMaxScaler\n",
    "from keras.models import Sequential\n",
    "from keras.layers import Dense, LSTM\n",
    "import matplotlib.pyplot as plt\n",
    "\n",
    "plt.style.use('fivethirtyeight')\n",
    "\n",
    "df = web.DataReader('AAPL', data_source='yahoo',\n",
    "                    start='2012-01-01', end='2021-06-04')"
   ]
  },
  {
   "cell_type": "code",
   "execution_count": null,
   "metadata": {},
   "outputs": [],
   "source": [
    "# show the table\n",
    "# print(df)\n",
    "\n",
    "# show the rows and columns\n",
    "# print(df.shape)\n",
    "\n",
    "plt.figure(figsize=(16, 8))\n",
    "plt.title('Close price history')\n",
    "plt.plot(df['Close'])\n",
    "plt.xlabel('Date', fontsize=18)\n",
    "plt.ylabel('Close Price', fontsize=18)\n",
    "plt.show()\n",
    "\n",
    "# create a new dataframe with only the 'close' column\n",
    "data = df.filter(['Close'])\n",
    "\n",
    "# convert the dataframe into a numpy array\n",
    "dataset = data.values"
   ]
  }
 ],
 "metadata": {
  "kernelspec": {
   "display_name": "Python 3",
   "language": "python",
   "name": "python3"
  },
  "language_info": {
   "codemirror_mode": {
    "name": "ipython",
    "version": 3
   },
   "file_extension": ".py",
   "mimetype": "text/x-python",
   "name": "python",
   "nbconvert_exporter": "python",
   "pygments_lexer": "ipython3",
   "version": "3.8.8"
  }
 },
 "nbformat": 4,
 "nbformat_minor": 4
}
